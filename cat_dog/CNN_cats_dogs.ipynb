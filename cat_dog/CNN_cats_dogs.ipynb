{
 "cells": [
  {
   "cell_type": "markdown",
   "metadata": {
    "id": "U7ZiWkmiXKOT"
   },
   "source": [
    "# 복잡한 object 구별하기 (강이지 vs 고양이) : from Deep learning with Python "
   ]
  },
  {
   "cell_type": "markdown",
   "metadata": {
    "id": "wT_mTcixXKOZ"
   },
   "source": [
    "## 아래 코드는 \"케라스 창시자에게 배우는 딥러닝\"의  역자 Github (https://github.com/rickiepark/deep-learning-with-python-notebooks) 에서 받은 소스파일을 교육목적으로 재구성함"
   ]
  },
  {
   "cell_type": "code",
   "execution_count": 1,
   "metadata": {
    "id": "ApB8KJYFXKOZ"
   },
   "outputs": [],
   "source": [
    "import os\n",
    "os.environ['KMP_DUPLICATE_LIB_OK']='True' # The kernel appears to have died. It will restart automatically 문제 수정"
   ]
  },
  {
   "cell_type": "code",
   "execution_count": 2,
   "metadata": {
    "id": "jbMLGes3XKOa"
   },
   "outputs": [],
   "source": [
    "import keras\n",
    "keras.__version__\n",
    "\n",
    "import os, shutil # 파일 연산을 위한 라이브러리 "
   ]
  },
  {
   "cell_type": "markdown",
   "metadata": {
    "id": "GHAUqoe-XKOa"
   },
   "source": [
    "## 파이썬 기능을 사용하여, 파일 분류 \n",
    "이 주피터 노트북이 있는 폴더에 데이터 zip 을 압축 해제 하기 바랍니다."
   ]
  },
  {
   "cell_type": "code",
   "execution_count": 3,
   "metadata": {
    "colab": {
     "background_save": true
    },
    "id": "wxV4GztUXKOa"
   },
   "outputs": [],
   "source": [
    "# 원본 데이터셋을 압축 해제한 디렉터리 경로 \n",
    "original_dataset_dir = './datasets/cats_and_dogs/train'\n",
    "\n",
    "# 소규모 데이터셋을 저장할 디렉터리\n",
    "base_dir = './datasets/cats_and_dogs_small'\n",
    "\n",
    "if os.path.exists(base_dir):  # 반복적인 실행을 위해 디렉토리를 삭제합니다.\n",
    "    shutil.rmtree(base_dir)   \n",
    "os.mkdir(base_dir)\n",
    "\n",
    "# 훈련, 검증, 테스트 분할을 위한 디렉터리\n",
    "train_dir = os.path.join(base_dir, 'train')\n",
    "os.mkdir(train_dir)\n",
    "validation_dir = os.path.join(base_dir, 'validation')\n",
    "os.mkdir(validation_dir)\n",
    "test_dir = os.path.join(base_dir, 'test')\n",
    "os.mkdir(test_dir)\n",
    "\n",
    "# 훈련용 고양이 사진 디렉터리\n",
    "train_cats_dir = os.path.join(train_dir, 'cats')\n",
    "os.mkdir(train_cats_dir)\n",
    "\n",
    "# 훈련용 강아지 사진 디렉터리\n",
    "train_dogs_dir = os.path.join(train_dir, 'dogs')\n",
    "os.mkdir(train_dogs_dir)\n",
    "\n",
    "# 검증용 고양이 사진 디렉터리\n",
    "validation_cats_dir = os.path.join(validation_dir, 'cats')\n",
    "os.mkdir(validation_cats_dir)\n",
    "\n",
    "# 검증용 강아지 사진 디렉터리\n",
    "validation_dogs_dir = os.path.join(validation_dir, 'dogs')\n",
    "os.mkdir(validation_dogs_dir)\n",
    "\n",
    "# 테스트용 고양이 사진 디렉터리\n",
    "test_cats_dir = os.path.join(test_dir, 'cats')\n",
    "os.mkdir(test_cats_dir)\n",
    "\n",
    "# 테스트용 강아지 사진 디렉터리\n",
    "test_dogs_dir = os.path.join(test_dir, 'dogs')\n",
    "os.mkdir(test_dogs_dir)\n",
    "\n",
    "# 처음 1,000개의 고양이 이미지를 train_cats_dir에 복사합니다\n",
    "fnames = ['cat.{}.jpg'.format(i) for i in range(1000)]\n",
    "for fname in fnames:\n",
    "    src = os.path.join(original_dataset_dir, fname)\n",
    "    dst = os.path.join(train_cats_dir, fname)\n",
    "    shutil.copyfile(src, dst)\n",
    "\n",
    "# 다음 500개 고양이 이미지를 validation_cats_dir에 복사합니다\n",
    "fnames = ['cat.{}.jpg'.format(i) for i in range(1000, 1500)]\n",
    "for fname in fnames:\n",
    "    src = os.path.join(original_dataset_dir, fname)\n",
    "    dst = os.path.join(validation_cats_dir, fname)\n",
    "    shutil.copyfile(src, dst)\n",
    "    \n",
    "# 다음 500개 고양이 이미지를 test_cats_dir에 복사합니다\n",
    "fnames = ['cat.{}.jpg'.format(i) for i in range(1500, 2000)]\n",
    "for fname in fnames:\n",
    "    src = os.path.join(original_dataset_dir, fname)\n",
    "    dst = os.path.join(test_cats_dir, fname)\n",
    "    shutil.copyfile(src, dst)\n",
    "    \n",
    "# 처음 1,000개의 강아지 이미지를 train_dogs_dir에 복사합니다\n",
    "fnames = ['dog.{}.jpg'.format(i) for i in range(1000)]\n",
    "for fname in fnames:\n",
    "    src = os.path.join(original_dataset_dir, fname)\n",
    "    dst = os.path.join(train_dogs_dir, fname)\n",
    "    shutil.copyfile(src, dst)\n",
    "    \n",
    "# 다음 500개 강아지 이미지를 validation_dogs_dir에 복사합니다\n",
    "fnames = ['dog.{}.jpg'.format(i) for i in range(1000, 1500)]\n",
    "for fname in fnames:\n",
    "    src = os.path.join(original_dataset_dir, fname)\n",
    "    dst = os.path.join(validation_dogs_dir, fname)\n",
    "    shutil.copyfile(src, dst)\n",
    "    \n",
    "# 다음 500개 강아지 이미지를 test_dogs_dir에 복사합니다\n",
    "fnames = ['dog.{}.jpg'.format(i) for i in range(1500, 2000)]\n",
    "for fname in fnames:\n",
    "    src = os.path.join(original_dataset_dir, fname)\n",
    "    dst = os.path.join(test_dogs_dir, fname)\n",
    "    shutil.copyfile(src, dst)"
   ]
  },
  {
   "cell_type": "code",
   "execution_count": 4,
   "metadata": {
    "colab": {
     "background_save": true
    },
    "id": "ddAUIZW9XKOb",
    "outputId": "002ad917-c25a-49a3-b476-953199103d67"
   },
   "outputs": [
    {
     "name": "stdout",
     "output_type": "stream",
     "text": [
      "훈련용 고양이 이미지 전체 개수: 1000\n",
      "훈련용 강아지 이미지 전체 개수: 1000\n",
      "검증용 고양이 이미지 전체 개수: 500\n",
      "검증용 강아지 이미지 전체 개수: 500\n",
      "테스트용 고양이 이미지 전체 개수: 500\n",
      "테스트용 강아지 이미지 전체 개수: 500\n"
     ]
    }
   ],
   "source": [
    "print('훈련용 고양이 이미지 전체 개수:', len(os.listdir(train_cats_dir)))\n",
    "print('훈련용 강아지 이미지 전체 개수:', len(os.listdir(train_dogs_dir)))\n",
    "\n",
    "print('검증용 고양이 이미지 전체 개수:', len(os.listdir(validation_cats_dir)))\n",
    "print('검증용 강아지 이미지 전체 개수:', len(os.listdir(validation_dogs_dir)))\n",
    "\n",
    "print('테스트용 고양이 이미지 전체 개수:', len(os.listdir(test_cats_dir)))\n",
    "print('테스트용 강아지 이미지 전체 개수:', len(os.listdir(test_dogs_dir)))"
   ]
  },
  {
   "cell_type": "markdown",
   "metadata": {
    "id": "FV1f3YvCXKOb"
   },
   "source": [
    "## 데이터 전처리 \n",
    "\n",
    "데이터는 네트워크에 주입되기 전에 부동 소수 타입의 텐서로 적절하게 전처리되어 있어야 합니다. 지금은 데이터가 JPEG 파일로 되어 있으므로 네트워크에 주입하려면 대략 다음 과정을 따릅니다.\n",
    "\n",
    "1.\t사진 파일을 읽습니다.\n",
    "2.\tJPEG 콘텐츠를 RGB 픽셀 값으로 디코딩합니다.\n",
    "3.\t그다음 부동 소수 타입의 텐서로 변환합니다.\n",
    "4.\t픽셀 값(0에서 255 사이)의 스케일을 [0, 1] 사이로 조정합니다(신경망은 작은 입력 값을 선호합니다).\n",
    "\n",
    "좀 복잡하게 보일 수 있지만 다행히 케라스는 이런 단계를 자동으로 처리하는 유틸리티를 가지고 있습니다. 케라스는 `keras.preprocessing.image`에 이미지 처리를 위한 헬퍼 도구들을 가지고 있습니다. 특히 `ImageDataGenerator` 클래스는 디스크에 있는 이미지 파일을 전처리된 배치 텐서로 자동으로 바꾸어주는 파이썬 제너레이터를 만들어 줍니다. 이 클래스를 사용해 보겠습니다."
   ]
  },
  {
   "cell_type": "code",
   "execution_count": 5,
   "metadata": {
    "colab": {
     "background_save": true
    },
    "id": "2CIv3pHZXKOb",
    "outputId": "e9b04001-221d-4d16-8ac7-055c71578735"
   },
   "outputs": [
    {
     "name": "stderr",
     "output_type": "stream",
     "text": [
      "2021-12-13 20:51:16.049673: I tensorflow/stream_executor/cuda/cuda_gpu_executor.cc:939] successful NUMA node read from SysFS had negative value (-1), but there must be at least one NUMA node, so returning NUMA node zero\n",
      "2021-12-13 20:51:16.068704: I tensorflow/stream_executor/cuda/cuda_gpu_executor.cc:939] successful NUMA node read from SysFS had negative value (-1), but there must be at least one NUMA node, so returning NUMA node zero\n",
      "2021-12-13 20:51:16.069236: I tensorflow/stream_executor/cuda/cuda_gpu_executor.cc:939] successful NUMA node read from SysFS had negative value (-1), but there must be at least one NUMA node, so returning NUMA node zero\n",
      "2021-12-13 20:51:16.070571: I tensorflow/core/platform/cpu_feature_guard.cc:151] This TensorFlow binary is optimized with oneAPI Deep Neural Network Library (oneDNN) to use the following CPU instructions in performance-critical operations:  AVX2 FMA\n",
      "To enable them in other operations, rebuild TensorFlow with the appropriate compiler flags.\n",
      "2021-12-13 20:51:16.071555: I tensorflow/stream_executor/cuda/cuda_gpu_executor.cc:939] successful NUMA node read from SysFS had negative value (-1), but there must be at least one NUMA node, so returning NUMA node zero\n",
      "2021-12-13 20:51:16.072056: I tensorflow/stream_executor/cuda/cuda_gpu_executor.cc:939] successful NUMA node read from SysFS had negative value (-1), but there must be at least one NUMA node, so returning NUMA node zero\n",
      "2021-12-13 20:51:16.072530: I tensorflow/stream_executor/cuda/cuda_gpu_executor.cc:939] successful NUMA node read from SysFS had negative value (-1), but there must be at least one NUMA node, so returning NUMA node zero\n",
      "2021-12-13 20:51:16.613177: I tensorflow/stream_executor/cuda/cuda_gpu_executor.cc:939] successful NUMA node read from SysFS had negative value (-1), but there must be at least one NUMA node, so returning NUMA node zero\n",
      "2021-12-13 20:51:16.613537: I tensorflow/stream_executor/cuda/cuda_gpu_executor.cc:939] successful NUMA node read from SysFS had negative value (-1), but there must be at least one NUMA node, so returning NUMA node zero\n",
      "2021-12-13 20:51:16.613858: I tensorflow/stream_executor/cuda/cuda_gpu_executor.cc:939] successful NUMA node read from SysFS had negative value (-1), but there must be at least one NUMA node, so returning NUMA node zero\n",
      "2021-12-13 20:51:16.614293: I tensorflow/core/common_runtime/gpu/gpu_device.cc:1525] Created device /job:localhost/replica:0/task:0/device:GPU:0 with 6293 MB memory:  -> device: 0, name: NVIDIA GeForce RTX 2070 SUPER, pci bus id: 0000:09:00.0, compute capability: 7.5\n"
     ]
    },
    {
     "name": "stdout",
     "output_type": "stream",
     "text": [
      "Found 2000 images belonging to 2 classes.\n",
      "Found 1000 images belonging to 2 classes.\n"
     ]
    }
   ],
   "source": [
    "from keras.preprocessing.image import ImageDataGenerator\n",
    "\n",
    "import tensorflow as tf\n",
    "with tf.device('/gpu:0'):\n",
    "    # 모든 이미지를 1/255로 스케일을 조정합니다\n",
    "    train_datagen = ImageDataGenerator(rescale = 1./255)\n",
    "\n",
    "    test_datagen = ImageDataGenerator(rescale=1./255)\n",
    "\n",
    "    train_generator = train_datagen.flow_from_directory(\n",
    "            # 타깃 디렉터리\n",
    "            train_dir,\n",
    "            # 모든 이미지를 150 × 150 크기로 바꿉니다\n",
    "            target_size=(150, 150),\n",
    "            batch_size=20,\n",
    "            # binary_crossentropy 손실을 사용하기 때문에 이진 레이블이 필요합니다 (강아지 vs 고양이)\n",
    "            class_mode='binary')\n",
    "\n",
    "    validation_generator = test_datagen.flow_from_directory(\n",
    "            validation_dir,\n",
    "            target_size=(150, 150),\n",
    "            batch_size=20,\n",
    "            class_mode='binary')"
   ]
  },
  {
   "cell_type": "code",
   "execution_count": 6,
   "metadata": {
    "colab": {
     "background_save": true
    },
    "id": "ATevazWaXKOc",
    "outputId": "b637d745-eb7e-4c62-da10-593797ebdec8"
   },
   "outputs": [
    {
     "name": "stdout",
     "output_type": "stream",
     "text": [
      "배치 데이터 크기: (20, 150, 150, 3)\n",
      "배치 레이블 크기: (20,)\n"
     ]
    }
   ],
   "source": [
    "for data_batch, labels_batch in train_generator:\n",
    "    print('배치 데이터 크기:', data_batch.shape)\n",
    "    print('배치 레이블 크기:', labels_batch.shape)\n",
    "    break"
   ]
  },
  {
   "cell_type": "code",
   "execution_count": 7,
   "metadata": {
    "colab": {
     "background_save": true
    },
    "id": "uGigzAAkXKOc",
    "outputId": "2d4ebaa8-f0bf-42f9-88fb-1ffc4d9ac852"
   },
   "outputs": [
    {
     "name": "stdout",
     "output_type": "stream",
     "text": [
      "Model: \"sequential\"\n",
      "_________________________________________________________________\n",
      " Layer (type)                Output Shape              Param #   \n",
      "=================================================================\n",
      " conv2d (Conv2D)             (None, 148, 148, 32)      896       \n",
      "                                                                 \n",
      " max_pooling2d (MaxPooling2D  (None, 74, 74, 32)       0         \n",
      " )                                                               \n",
      "                                                                 \n",
      " conv2d_1 (Conv2D)           (None, 72, 72, 64)        18496     \n",
      "                                                                 \n",
      " max_pooling2d_1 (MaxPooling  (None, 36, 36, 64)       0         \n",
      " 2D)                                                             \n",
      "                                                                 \n",
      " conv2d_2 (Conv2D)           (None, 34, 34, 128)       73856     \n",
      "                                                                 \n",
      " max_pooling2d_2 (MaxPooling  (None, 17, 17, 128)      0         \n",
      " 2D)                                                             \n",
      "                                                                 \n",
      " conv2d_3 (Conv2D)           (None, 15, 15, 128)       147584    \n",
      "                                                                 \n",
      " max_pooling2d_3 (MaxPooling  (None, 7, 7, 128)        0         \n",
      " 2D)                                                             \n",
      "                                                                 \n",
      " flatten (Flatten)           (None, 6272)              0         \n",
      "                                                                 \n",
      " dense (Dense)               (None, 512)               3211776   \n",
      "                                                                 \n",
      " dense_1 (Dense)             (None, 1)                 513       \n",
      "                                                                 \n",
      "=================================================================\n",
      "Total params: 3,453,121\n",
      "Trainable params: 3,453,121\n",
      "Non-trainable params: 0\n",
      "_________________________________________________________________\n"
     ]
    }
   ],
   "source": [
    "from keras import layers\n",
    "from keras import models\n",
    "\n",
    "with tf.device('/gpu:0'):\n",
    "    model = models.Sequential()\n",
    "    model.add(layers.Conv2D(32, (3, 3), activation='relu',input_shape=(150, 150, 3)))\n",
    "    model.add(layers.MaxPooling2D((2, 2)))\n",
    "    model.add(layers.Conv2D(64, (3, 3), activation='relu'))\n",
    "    model.add(layers.MaxPooling2D((2, 2)))\n",
    "    model.add(layers.Conv2D(128, (3, 3), activation='relu'))\n",
    "    model.add(layers.MaxPooling2D((2, 2)))\n",
    "    model.add(layers.Conv2D(128, (3, 3), activation='relu'))\n",
    "    model.add(layers.MaxPooling2D((2, 2)))\n",
    "    model.add(layers.Flatten())\n",
    "    model.add(layers.Dense(512, activation='relu'))\n",
    "    model.add(layers.Dense(1, activation='sigmoid'))\n",
    "\n",
    "    model.summary()"
   ]
  },
  {
   "cell_type": "code",
   "execution_count": 8,
   "metadata": {
    "colab": {
     "background_save": true
    },
    "id": "_1ZJ4gRJXKOc"
   },
   "outputs": [],
   "source": [
    "with tf.device('/gpu:0'):\n",
    "    model.compile(optimizer='adam',loss='binary_crossentropy',metrics=['accuracy'])"
   ]
  },
  {
   "cell_type": "code",
   "execution_count": 9,
   "metadata": {
    "colab": {
     "background_save": true
    },
    "id": "h_-UGusUXKOd",
    "outputId": "37cbe081-6f44-4de6-eb5c-741f52fab897"
   },
   "outputs": [
    {
     "name": "stdout",
     "output_type": "stream",
     "text": [
      "Epoch 1/30\n"
     ]
    },
    {
     "name": "stderr",
     "output_type": "stream",
     "text": [
      "2021-12-13 20:51:18.073826: I tensorflow/stream_executor/cuda/cuda_dnn.cc:366] Loaded cuDNN version 8202\n"
     ]
    },
    {
     "name": "stdout",
     "output_type": "stream",
     "text": [
      "100/100 [==============================] - 8s 54ms/step - loss: 0.6997 - accuracy: 0.4940 - val_loss: 0.6929 - val_accuracy: 0.5000\n",
      "Epoch 2/30\n",
      "100/100 [==============================] - 5s 53ms/step - loss: 0.6848 - accuracy: 0.5180 - val_loss: 0.6850 - val_accuracy: 0.5930\n",
      "Epoch 3/30\n",
      "100/100 [==============================] - 5s 51ms/step - loss: 0.6598 - accuracy: 0.5945 - val_loss: 0.6584 - val_accuracy: 0.5270\n",
      "Epoch 4/30\n",
      "100/100 [==============================] - 5s 51ms/step - loss: 0.6516 - accuracy: 0.6020 - val_loss: 0.6448 - val_accuracy: 0.6340\n",
      "Epoch 5/30\n",
      "100/100 [==============================] - 5s 51ms/step - loss: 0.6136 - accuracy: 0.6630 - val_loss: 0.5891 - val_accuracy: 0.6830\n",
      "Epoch 6/30\n",
      "100/100 [==============================] - 5s 52ms/step - loss: 0.5764 - accuracy: 0.7020 - val_loss: 0.5769 - val_accuracy: 0.6960\n",
      "Epoch 7/30\n",
      "100/100 [==============================] - 5s 51ms/step - loss: 0.5367 - accuracy: 0.7340 - val_loss: 0.5782 - val_accuracy: 0.6890\n",
      "Epoch 8/30\n",
      "100/100 [==============================] - 5s 51ms/step - loss: 0.5269 - accuracy: 0.7435 - val_loss: 0.5247 - val_accuracy: 0.7340\n",
      "Epoch 9/30\n",
      "100/100 [==============================] - 5s 53ms/step - loss: 0.4651 - accuracy: 0.7720 - val_loss: 0.5227 - val_accuracy: 0.7500\n",
      "Epoch 10/30\n",
      "100/100 [==============================] - 5s 52ms/step - loss: 0.4406 - accuracy: 0.7855 - val_loss: 0.5507 - val_accuracy: 0.7340\n",
      "Epoch 11/30\n",
      "100/100 [==============================] - 5s 52ms/step - loss: 0.3825 - accuracy: 0.8215 - val_loss: 0.6283 - val_accuracy: 0.7280\n",
      "Epoch 12/30\n",
      "100/100 [==============================] - 5s 50ms/step - loss: 0.3145 - accuracy: 0.8665 - val_loss: 0.5530 - val_accuracy: 0.7590\n",
      "Epoch 13/30\n",
      "100/100 [==============================] - 5s 55ms/step - loss: 0.2773 - accuracy: 0.8780 - val_loss: 0.6093 - val_accuracy: 0.7400\n",
      "Epoch 14/30\n",
      "100/100 [==============================] - 5s 53ms/step - loss: 0.2035 - accuracy: 0.9170 - val_loss: 0.6644 - val_accuracy: 0.7480\n",
      "Epoch 15/30\n",
      "100/100 [==============================] - 5s 51ms/step - loss: 0.1484 - accuracy: 0.9365 - val_loss: 0.6994 - val_accuracy: 0.7740\n",
      "Epoch 16/30\n",
      "100/100 [==============================] - 5s 54ms/step - loss: 0.1070 - accuracy: 0.9625 - val_loss: 0.9664 - val_accuracy: 0.7480\n",
      "Epoch 17/30\n",
      "100/100 [==============================] - 5s 52ms/step - loss: 0.0799 - accuracy: 0.9720 - val_loss: 1.1298 - val_accuracy: 0.7490\n",
      "Epoch 18/30\n",
      "100/100 [==============================] - 5s 53ms/step - loss: 0.0599 - accuracy: 0.9775 - val_loss: 1.0879 - val_accuracy: 0.7590\n",
      "Epoch 19/30\n",
      "100/100 [==============================] - 5s 52ms/step - loss: 0.0196 - accuracy: 0.9955 - val_loss: 1.4525 - val_accuracy: 0.7600\n",
      "Epoch 20/30\n",
      "100/100 [==============================] - 5s 50ms/step - loss: 0.0089 - accuracy: 0.9985 - val_loss: 1.4983 - val_accuracy: 0.7720\n",
      "Epoch 21/30\n",
      "100/100 [==============================] - 5s 54ms/step - loss: 0.0013 - accuracy: 1.0000 - val_loss: 1.5987 - val_accuracy: 0.7700\n",
      "Epoch 22/30\n",
      "100/100 [==============================] - 5s 52ms/step - loss: 4.7640e-04 - accuracy: 1.0000 - val_loss: 1.6819 - val_accuracy: 0.7760\n",
      "Epoch 23/30\n",
      "100/100 [==============================] - 5s 54ms/step - loss: 3.1696e-04 - accuracy: 1.0000 - val_loss: 1.7309 - val_accuracy: 0.7730\n",
      "Epoch 24/30\n",
      "100/100 [==============================] - 5s 52ms/step - loss: 2.3391e-04 - accuracy: 1.0000 - val_loss: 1.7794 - val_accuracy: 0.7770\n",
      "Epoch 25/30\n",
      "100/100 [==============================] - 5s 53ms/step - loss: 1.8415e-04 - accuracy: 1.0000 - val_loss: 1.8190 - val_accuracy: 0.7780\n",
      "Epoch 26/30\n",
      "100/100 [==============================] - 5s 52ms/step - loss: 1.4580e-04 - accuracy: 1.0000 - val_loss: 1.8546 - val_accuracy: 0.7760\n",
      "Epoch 27/30\n",
      "100/100 [==============================] - 5s 53ms/step - loss: 1.1924e-04 - accuracy: 1.0000 - val_loss: 1.8833 - val_accuracy: 0.7710\n",
      "Epoch 28/30\n",
      "100/100 [==============================] - 5s 53ms/step - loss: 9.8909e-05 - accuracy: 1.0000 - val_loss: 1.9120 - val_accuracy: 0.7720\n",
      "Epoch 29/30\n",
      "100/100 [==============================] - 5s 52ms/step - loss: 8.3444e-05 - accuracy: 1.0000 - val_loss: 1.9400 - val_accuracy: 0.7730\n",
      "Epoch 30/30\n",
      "100/100 [==============================] - 5s 53ms/step - loss: 7.1249e-05 - accuracy: 1.0000 - val_loss: 1.9603 - val_accuracy: 0.7720\n"
     ]
    }
   ],
   "source": [
    "# history= model.fit(train_images,train_labels,epochs=20, batch_size=100, verbose=2,validation_data=(test_images, test_labels))\n",
    "with tf.device('/gpu:0'):\n",
    "    history = model.fit(\n",
    "        train_generator,\n",
    "        steps_per_epoch=100,  \n",
    "        epochs=30,\n",
    "        validation_data=validation_generator,\n",
    "        validation_steps=50\n",
    "    )"
   ]
  },
  {
   "cell_type": "code",
   "execution_count": 10,
   "metadata": {
    "id": "vXpq7QQcXKOd"
   },
   "outputs": [
    {
     "data": {
      "text/plain": [
       "dict_keys(['loss', 'accuracy', 'val_loss', 'val_accuracy'])"
      ]
     },
     "execution_count": 10,
     "metadata": {},
     "output_type": "execute_result"
    }
   ],
   "source": [
    "history.history.keys()"
   ]
  },
  {
   "cell_type": "code",
   "execution_count": 11,
   "metadata": {
    "id": "_jSm1rCsXKOd"
   },
   "outputs": [
    {
     "data": {
      "image/png": "[encoded data removed]",
      "text/plain": [
       "<Figure size 720x288 with 2 Axes>"
      ]
     },
     "metadata": {
      "needs_background": "light"
     },
     "output_type": "display_data"
    }
   ],
   "source": [
    "import matplotlib.pyplot as plt\n",
    "\n",
    "loss = history.history['loss']\n",
    "val_loss = history.history['val_loss']\n",
    "\n",
    "acc = history.history['accuracy']\n",
    "val_acc = history.history['val_accuracy']\n",
    "\n",
    "epochs = range(len(acc))\n",
    "\n",
    "plt.figure(figsize=(10, 4))\n",
    "\n",
    "plt.subplot(121)\n",
    "\n",
    "plt.plot(epochs, loss, 'bo', label='Training loss')\n",
    "plt.plot(epochs, val_loss, 'b', label='Validation loss')\n",
    "plt.title('Training and validation loss')\n",
    "plt.legend()\n",
    "\n",
    "plt.subplot(122)\n",
    "\n",
    "plt.plot(epochs, acc, 'bo', label='Training accuracy')\n",
    "plt.plot(epochs, val_acc, 'b', label='Validation accuracy')\n",
    "plt.title('Training and validation accuracy')\n",
    "plt.legend()\n",
    "\n",
    "plt.tight_layout()\n",
    "plt.show()"
   ]
  },
  {
   "cell_type": "markdown",
   "metadata": {
    "id": "1l8h84oXXKOd"
   },
   "source": [
    "## Question: \n",
    "\n",
    "\n",
    "<img src=\"overfitting.png\" width=\"70%\">\n",
    "\n",
    "현재 테스트에서 overfitting이 일어나고 있습니다.\n",
    "수업 시간에 배웠던 다양한 방법을 통해 overfitting을 최소화 시키고, 결과를 위와 같이 그래프로 표시하세요. \n",
    "결과값이 나타낸 대로 저장을 하여 제출하시기 바랍니다.  "
   ]
  },
  {
   "cell_type": "code",
   "execution_count": 12,
   "metadata": {
    "id": "yyxKEsi-bCYA"
   },
   "outputs": [
    {
     "name": "stdout",
     "output_type": "stream",
     "text": [
      "Found 2000 images belonging to 2 classes.\n",
      "Found 1000 images belonging to 2 classes.\n"
     ]
    }
   ],
   "source": [
    "from keras.preprocessing.image import ImageDataGenerator\n",
    "with tf.device('/gpu:0'):\n",
    "    # 모든 이미지를 1/255로 스케일을 조정합니다\n",
    "    train_datagen = ImageDataGenerator(rescale = 1./255,\n",
    "                                       #samplewise_std_normalization=True,\n",
    "                                       shear_range = 0.2,#data augmentation을 통해 data 수를 늘린다(data의 질은 좋지 못함)=>overfitting 방지\n",
    "                                       zoom_range = 0.2,\n",
    "                                       rotation_range = 30,\n",
    "                                       #brightness_range=(0.8,1.2),\n",
    "                                       horizontal_flip = True)\n",
    "\n",
    "    test_datagen = ImageDataGenerator(rescale=1./255)\n",
    "\n",
    "    train_generator = train_datagen.flow_from_directory(\n",
    "            # 타깃 디렉터리\n",
    "            train_dir,\n",
    "            # 모든 이미지를 150 × 150 크기로 바꿉니다\n",
    "            target_size=(150, 150),\n",
    "            batch_size=20,\n",
    "            # binary_crossentropy 손실을 사용하기 때문에 이진 레이블이 필요합니다 (강아지 vs 고양이)\n",
    "            class_mode='binary')\n",
    "\n",
    "    validation_generator = test_datagen.flow_from_directory(\n",
    "            validation_dir,\n",
    "            target_size=(150, 150),\n",
    "            batch_size=20,\n",
    "            class_mode='binary')"
   ]
  },
  {
   "cell_type": "code",
   "execution_count": 15,
   "metadata": {
    "id": "uqZODza-XKOd"
   },
   "outputs": [
    {
     "name": "stdout",
     "output_type": "stream",
     "text": [
      "Model: \"sequential_3\"\n",
      "_________________________________________________________________\n",
      " Layer (type)                Output Shape              Param #   \n",
      "=================================================================\n",
      " conv2d_9 (Conv2D)           (None, 148, 148, 32)      896       \n",
      "                                                                 \n",
      " batch_normalization_6 (Batc  (None, 148, 148, 32)     128       \n",
      " hNormalization)                                                 \n",
      "                                                                 \n",
      " leaky_re_lu_1 (LeakyReLU)   (None, 148, 148, 32)      0         \n",
      "                                                                 \n",
      " max_pooling2d_8 (MaxPooling  (None, 74, 74, 32)       0         \n",
      " 2D)                                                             \n",
      "                                                                 \n",
      " conv2d_10 (Conv2D)          (None, 72, 72, 64)        18496     \n",
      "                                                                 \n",
      " batch_normalization_7 (Batc  (None, 72, 72, 64)       256       \n",
      " hNormalization)                                                 \n",
      "                                                                 \n",
      " leaky_re_lu_2 (LeakyReLU)   (None, 72, 72, 64)        0         \n",
      "                                                                 \n",
      " max_pooling2d_9 (MaxPooling  (None, 36, 36, 64)       0         \n",
      " 2D)                                                             \n",
      "                                                                 \n",
      " conv2d_11 (Conv2D)          (None, 34, 34, 128)       73856     \n",
      "                                                                 \n",
      " batch_normalization_8 (Batc  (None, 34, 34, 128)      512       \n",
      " hNormalization)                                                 \n",
      "                                                                 \n",
      " leaky_re_lu_3 (LeakyReLU)   (None, 34, 34, 128)       0         \n",
      "                                                                 \n",
      " max_pooling2d_10 (MaxPoolin  (None, 17, 17, 128)      0         \n",
      " g2D)                                                            \n",
      "                                                                 \n",
      " conv2d_12 (Conv2D)          (None, 15, 15, 64)        73792     \n",
      "                                                                 \n",
      " batch_normalization_9 (Batc  (None, 15, 15, 64)       256       \n",
      " hNormalization)                                                 \n",
      "                                                                 \n",
      " leaky_re_lu_4 (LeakyReLU)   (None, 15, 15, 64)        0         \n",
      "                                                                 \n",
      " max_pooling2d_11 (MaxPoolin  (None, 7, 7, 64)         0         \n",
      " g2D)                                                            \n",
      "                                                                 \n",
      " flatten_2 (Flatten)         (None, 3136)              0         \n",
      "                                                                 \n",
      " dense_4 (Dense)             (None, 512)               1606144   \n",
      "                                                                 \n",
      " batch_normalization_10 (Bat  (None, 512)              2048      \n",
      " chNormalization)                                                \n",
      "                                                                 \n",
      " leaky_re_lu_5 (LeakyReLU)   (None, 512)               0         \n",
      "                                                                 \n",
      " dropout_1 (Dropout)         (None, 512)               0         \n",
      "                                                                 \n",
      " dense_5 (Dense)             (None, 1)                 513       \n",
      "                                                                 \n",
      "=================================================================\n",
      "Total params: 1,776,897\n",
      "Trainable params: 1,775,297\n",
      "Non-trainable params: 1,600\n",
      "_________________________________________________________________\n"
     ]
    }
   ],
   "source": [
    "from keras import layers\n",
    "from keras import models\n",
    "from keras import regularizers\n",
    "from keras.layers import BatchNormalization, Dropout, Activation\n",
    "\n",
    "#https://stackoverflow.com/questions/39691902/ordering-of-batch-normalization-and-dropout\n",
    "with tf.device('/gpu:0'):\n",
    "    model = models.Sequential()#모델을 간단화(학습해야 할 파라미터 수를 줄임)=>복잡함으로 인한 overfitting 방지\n",
    "\n",
    "    model.add(layers.Conv2D(32, (3, 3),input_shape=(150, 150, 3),kernel_regularizer=regularizers.l1_l2(l1=0.0001, l2=0.001)))#regulization(0에 가까운 가중치는 0으로 & 가중치 값이 너무 크지 않도록)을 통한 overfitting 방지\n",
    "    model.add(BatchNormalization())#batch normalization을 통한 overfitting 방지(regularize효과)\n",
    "    model.add(Activation('relu'))\n",
    "    model.add(layers.MaxPooling2D((2, 2)))\n",
    "\n",
    "    model.add(layers.Conv2D(64, (3, 3),kernel_regularizer=regularizers.l1_l2(l1=0.0001, l2=0.001)))\n",
    "    model.add(BatchNormalization())\n",
    "    model.add(Activation('relu'))\n",
    "    model.add(layers.MaxPooling2D((2, 2)))\n",
    "\n",
    "    model.add(layers.Conv2D(128, (3, 3),kernel_regularizer=regularizers.l1_l2(l1=0.0001, l2=0.001)))\n",
    "    model.add(BatchNormalization())\n",
    "    model.add(Activation('relu'))\n",
    "    model.add(layers.MaxPooling2D((2, 2)))\n",
    "\n",
    "    model.add(layers.Conv2D(64, (3, 3),kernel_regularizer=regularizers.l1_l2(l1=0.0001, l2=0.001)))\n",
    "    model.add(BatchNormalization())\n",
    "    model.add(Activation('relu'))\n",
    "    model.add(layers.MaxPooling2D((2, 2)))\n",
    "\n",
    "    model.add(layers.Flatten())\n",
    "\n",
    "    model.add(layers.Dense(512,kernel_regularizer=regularizers.l1_l2(l1=0.0001, l2=0.001)))\n",
    "    model.add(BatchNormalization())\n",
    "    model.add(Activation('relu'))\n",
    "    model.add(Dropout(0.5))#drop out을 통한 overfitting 방지(robust한 모델, 특정 data에 과하게 학습되지 않도록)\n",
    "    model.add(layers.Dense(1, activation='sigmoid'))\n",
    "\n",
    "    model.summary()\n",
    "\n",
    "    model.compile(optimizer='adam',loss='binary_crossentropy',metrics=['accuracy'])\n",
    "\n",
    "    #https://link.springer.com/article/10.1007/s11042-019-08453-9의 자료를 참고하여 CNN에서는 dropout을 사용하지 않았다.\n",
    "    #일부 자료에서는 dropout과 batch normalization이 같은 효과를 가진다고 주장하는데 그 이유를 잘 모르겠어서 둘다 사용했습니다.\n",
    "    #l1,l2 regularize을 쓰지 않으면 val loss가 증가하는(국소적으로 증가하는 것이 아닌) 현상이 발생해서 사용하였습니다.(데이터가 적어 더욱 강한 규제 적용)"
   ]
  },
  {
   "cell_type": "code",
   "execution_count": 16,
   "metadata": {
    "id": "T1S_cyd95RYY"
   },
   "outputs": [
    {
     "name": "stdout",
     "output_type": "stream",
     "text": [
      "Epoch 1/100\n",
      "100/100 [==============================] - ETA: 0s - loss: 5.2144 - accuracy: 0.5740\n",
      "Epoch 00001: val_loss improved from inf to 4.69788, saving model to model.h5\n",
      "100/100 [==============================] - 11s 98ms/step - loss: 5.2144 - accuracy: 0.5740 - val_loss: 4.6979 - val_accuracy: 0.5000\n",
      "Epoch 2/100\n",
      "100/100 [==============================] - ETA: 0s - loss: 3.7669 - accuracy: 0.6515\n",
      "Epoch 00002: val_loss improved from 4.69788 to 3.42143, saving model to model.h5\n",
      "100/100 [==============================] - 10s 100ms/step - loss: 3.7669 - accuracy: 0.6515 - val_loss: 3.4214 - val_accuracy: 0.5000\n",
      "Epoch 3/100\n",
      "100/100 [==============================] - ETA: 0s - loss: 2.8639 - accuracy: 0.6770\n",
      "Epoch 00003: val_loss improved from 3.42143 to 2.69673, saving model to model.h5\n",
      "100/100 [==============================] - 10s 100ms/step - loss: 2.8639 - accuracy: 0.6770 - val_loss: 2.6967 - val_accuracy: 0.5040\n",
      "Epoch 4/100\n",
      "100/100 [==============================] - ETA: 0s - loss: 2.2508 - accuracy: 0.6820\n",
      "Epoch 00004: val_loss improved from 2.69673 to 2.10511, saving model to model.h5\n",
      "100/100 [==============================] - 10s 99ms/step - loss: 2.2508 - accuracy: 0.6820 - val_loss: 2.1051 - val_accuracy: 0.5800\n",
      "Epoch 5/100\n",
      "100/100 [==============================] - ETA: 0s - loss: 1.8832 - accuracy: 0.6850\n",
      "Epoch 00005: val_loss improved from 2.10511 to 1.74052, saving model to model.h5\n",
      "100/100 [==============================] - 10s 99ms/step - loss: 1.8832 - accuracy: 0.6850 - val_loss: 1.7405 - val_accuracy: 0.6410\n",
      "Epoch 6/100\n",
      "100/100 [==============================] - ETA: 0s - loss: 1.5805 - accuracy: 0.7065\n",
      "Epoch 00006: val_loss improved from 1.74052 to 1.67698, saving model to model.h5\n",
      "100/100 [==============================] - 10s 101ms/step - loss: 1.5805 - accuracy: 0.7065 - val_loss: 1.6770 - val_accuracy: 0.5750\n",
      "Epoch 7/100\n",
      "100/100 [==============================] - ETA: 0s - loss: 1.4148 - accuracy: 0.7190\n",
      "Epoch 00007: val_loss improved from 1.67698 to 1.55653, saving model to model.h5\n",
      "100/100 [==============================] - 10s 101ms/step - loss: 1.4148 - accuracy: 0.7190 - val_loss: 1.5565 - val_accuracy: 0.5820\n",
      "Epoch 8/100\n",
      "100/100 [==============================] - ETA: 0s - loss: 1.2844 - accuracy: 0.7310\n",
      "Epoch 00008: val_loss improved from 1.55653 to 1.21135, saving model to model.h5\n",
      "100/100 [==============================] - 10s 99ms/step - loss: 1.2844 - accuracy: 0.7310 - val_loss: 1.2113 - val_accuracy: 0.7300\n",
      "Epoch 9/100\n",
      "100/100 [==============================] - ETA: 0s - loss: 1.2213 - accuracy: 0.7470\n",
      "Epoch 00009: val_loss improved from 1.21135 to 1.12954, saving model to model.h5\n",
      "100/100 [==============================] - 10s 100ms/step - loss: 1.2213 - accuracy: 0.7470 - val_loss: 1.1295 - val_accuracy: 0.7530\n",
      "Epoch 10/100\n",
      "100/100 [==============================] - ETA: 0s - loss: 1.1540 - accuracy: 0.7370\n",
      "Epoch 00010: val_loss did not improve from 1.12954\n",
      "100/100 [==============================] - 10s 104ms/step - loss: 1.1540 - accuracy: 0.7370 - val_loss: 1.3532 - val_accuracy: 0.6120\n",
      "Epoch 11/100\n",
      "100/100 [==============================] - ETA: 0s - loss: 1.1023 - accuracy: 0.7235\n",
      "Epoch 00011: val_loss improved from 1.12954 to 1.09892, saving model to model.h5\n",
      "100/100 [==============================] - 10s 98ms/step - loss: 1.1023 - accuracy: 0.7235 - val_loss: 1.0989 - val_accuracy: 0.7230\n",
      "Epoch 12/100\n",
      "100/100 [==============================] - ETA: 0s - loss: 1.1091 - accuracy: 0.7270\n",
      "Epoch 00012: val_loss did not improve from 1.09892\n",
      "100/100 [==============================] - 10s 100ms/step - loss: 1.1091 - accuracy: 0.7270 - val_loss: 1.4140 - val_accuracy: 0.5480\n",
      "Epoch 13/100\n",
      "100/100 [==============================] - ETA: 0s - loss: 1.0312 - accuracy: 0.7410\n",
      "Epoch 00013: val_loss improved from 1.09892 to 1.05499, saving model to model.h5\n",
      "100/100 [==============================] - 10s 98ms/step - loss: 1.0312 - accuracy: 0.7410 - val_loss: 1.0550 - val_accuracy: 0.7020\n",
      "Epoch 14/100\n",
      "100/100 [==============================] - ETA: 0s - loss: 1.0255 - accuracy: 0.7370\n",
      "Epoch 00014: val_loss did not improve from 1.05499\n",
      "100/100 [==============================] - 10s 99ms/step - loss: 1.0255 - accuracy: 0.7370 - val_loss: 1.2181 - val_accuracy: 0.6600\n",
      "Epoch 15/100\n",
      "100/100 [==============================] - ETA: 0s - loss: 1.0114 - accuracy: 0.7385\n",
      "Epoch 00015: val_loss improved from 1.05499 to 1.00284, saving model to model.h5\n",
      "100/100 [==============================] - 10s 103ms/step - loss: 1.0114 - accuracy: 0.7385 - val_loss: 1.0028 - val_accuracy: 0.7320\n",
      "Epoch 16/100\n",
      "100/100 [==============================] - ETA: 0s - loss: 0.9977 - accuracy: 0.7475\n",
      "Epoch 00016: val_loss improved from 1.00284 to 0.94572, saving model to model.h5\n",
      "100/100 [==============================] - 10s 100ms/step - loss: 0.9977 - accuracy: 0.7475 - val_loss: 0.9457 - val_accuracy: 0.7640\n",
      "Epoch 17/100\n",
      "100/100 [==============================] - ETA: 0s - loss: 0.9870 - accuracy: 0.7505\n",
      "Epoch 00017: val_loss did not improve from 0.94572\n",
      "100/100 [==============================] - 10s 100ms/step - loss: 0.9870 - accuracy: 0.7505 - val_loss: 1.0203 - val_accuracy: 0.7280\n",
      "Epoch 18/100\n",
      "100/100 [==============================] - ETA: 0s - loss: 0.9967 - accuracy: 0.7390\n",
      "Epoch 00018: val_loss did not improve from 0.94572\n",
      "100/100 [==============================] - 10s 101ms/step - loss: 0.9967 - accuracy: 0.7390 - val_loss: 1.5120 - val_accuracy: 0.5340\n",
      "Epoch 19/100\n",
      "100/100 [==============================] - ETA: 0s - loss: 0.9580 - accuracy: 0.7455\n",
      "Epoch 00019: val_loss improved from 0.94572 to 0.92330, saving model to model.h5\n",
      "100/100 [==============================] - 10s 99ms/step - loss: 0.9580 - accuracy: 0.7455 - val_loss: 0.9233 - val_accuracy: 0.7730\n",
      "Epoch 20/100\n",
      "100/100 [==============================] - ETA: 0s - loss: 0.9646 - accuracy: 0.7485\n",
      "Epoch 00020: val_loss did not improve from 0.92330\n",
      "100/100 [==============================] - 10s 97ms/step - loss: 0.9646 - accuracy: 0.7485 - val_loss: 1.0183 - val_accuracy: 0.6890\n",
      "Epoch 21/100\n",
      "100/100 [==============================] - ETA: 0s - loss: 0.9620 - accuracy: 0.7465\n",
      "Epoch 00021: val_loss did not improve from 0.92330\n",
      "100/100 [==============================] - 10s 101ms/step - loss: 0.9620 - accuracy: 0.7465 - val_loss: 1.1082 - val_accuracy: 0.6830\n",
      "Epoch 22/100\n",
      "100/100 [==============================] - ETA: 0s - loss: 0.9643 - accuracy: 0.7390\n",
      "Epoch 00022: val_loss did not improve from 0.92330\n",
      "100/100 [==============================] - 10s 100ms/step - loss: 0.9643 - accuracy: 0.7390 - val_loss: 0.9883 - val_accuracy: 0.7150\n",
      "Epoch 23/100\n",
      "100/100 [==============================] - ETA: 0s - loss: 0.9659 - accuracy: 0.7470\n",
      "Epoch 00023: val_loss did not improve from 0.92330\n",
      "100/100 [==============================] - 10s 98ms/step - loss: 0.9659 - accuracy: 0.7470 - val_loss: 0.9791 - val_accuracy: 0.7560\n",
      "Epoch 24/100\n",
      "100/100 [==============================] - ETA: 0s - loss: 0.9595 - accuracy: 0.7335\n",
      "Epoch 00024: val_loss did not improve from 0.92330\n",
      "100/100 [==============================] - 10s 100ms/step - loss: 0.9595 - accuracy: 0.7335 - val_loss: 0.9578 - val_accuracy: 0.6990\n",
      "Epoch 25/100\n",
      "100/100 [==============================] - ETA: 0s - loss: 0.9380 - accuracy: 0.7490\n",
      "Epoch 00025: val_loss did not improve from 0.92330\n",
      "100/100 [==============================] - 10s 99ms/step - loss: 0.9380 - accuracy: 0.7490 - val_loss: 0.9485 - val_accuracy: 0.7470\n",
      "Epoch 26/100\n",
      "100/100 [==============================] - ETA: 0s - loss: 0.9450 - accuracy: 0.7610\n",
      "Epoch 00026: val_loss did not improve from 0.92330\n",
      "100/100 [==============================] - 10s 98ms/step - loss: 0.9450 - accuracy: 0.7610 - val_loss: 1.0222 - val_accuracy: 0.7080\n",
      "Epoch 27/100\n",
      "100/100 [==============================] - ETA: 0s - loss: 0.9203 - accuracy: 0.7685\n",
      "Epoch 00027: val_loss did not improve from 0.92330\n",
      "100/100 [==============================] - 10s 100ms/step - loss: 0.9203 - accuracy: 0.7685 - val_loss: 1.0393 - val_accuracy: 0.6780\n",
      "Epoch 28/100\n",
      "100/100 [==============================] - ETA: 0s - loss: 0.9579 - accuracy: 0.7445\n",
      "Epoch 00028: val_loss did not improve from 0.92330\n",
      "100/100 [==============================] - 10s 99ms/step - loss: 0.9579 - accuracy: 0.7445 - val_loss: 1.3131 - val_accuracy: 0.5850\n"
     ]
    },
    {
     "name": "stdout",
     "output_type": "stream",
     "text": [
      "Epoch 29/100\n",
      "100/100 [==============================] - ETA: 0s - loss: 0.9319 - accuracy: 0.7690\n",
      "Epoch 00029: val_loss improved from 0.92330 to 0.92123, saving model to model.h5\n",
      "100/100 [==============================] - 10s 100ms/step - loss: 0.9319 - accuracy: 0.7690 - val_loss: 0.9212 - val_accuracy: 0.7820\n",
      "Epoch 30/100\n",
      "100/100 [==============================] - ETA: 0s - loss: 0.9378 - accuracy: 0.7565\n",
      "Epoch 00030: val_loss did not improve from 0.92123\n",
      "100/100 [==============================] - 10s 101ms/step - loss: 0.9378 - accuracy: 0.7565 - val_loss: 1.0668 - val_accuracy: 0.7140\n",
      "Epoch 31/100\n",
      "100/100 [==============================] - ETA: 0s - loss: 0.9588 - accuracy: 0.7510\n",
      "Epoch 00031: val_loss improved from 0.92123 to 0.88810, saving model to model.h5\n",
      "100/100 [==============================] - 10s 100ms/step - loss: 0.9588 - accuracy: 0.7510 - val_loss: 0.8881 - val_accuracy: 0.7780\n",
      "Epoch 32/100\n",
      "100/100 [==============================] - ETA: 0s - loss: 0.9118 - accuracy: 0.7685\n",
      "Epoch 00032: val_loss did not improve from 0.88810\n",
      "100/100 [==============================] - 10s 101ms/step - loss: 0.9118 - accuracy: 0.7685 - val_loss: 0.8923 - val_accuracy: 0.7680\n",
      "Epoch 33/100\n",
      "100/100 [==============================] - ETA: 0s - loss: 0.9376 - accuracy: 0.7655\n",
      "Epoch 00033: val_loss did not improve from 0.88810\n",
      "100/100 [==============================] - 10s 100ms/step - loss: 0.9376 - accuracy: 0.7655 - val_loss: 1.1284 - val_accuracy: 0.6240\n",
      "Epoch 34/100\n",
      "100/100 [==============================] - ETA: 0s - loss: 0.9049 - accuracy: 0.7655\n",
      "Epoch 00034: val_loss did not improve from 0.88810\n",
      "100/100 [==============================] - 10s 99ms/step - loss: 0.9049 - accuracy: 0.7655 - val_loss: 1.3250 - val_accuracy: 0.6460\n",
      "Epoch 35/100\n",
      "100/100 [==============================] - ETA: 0s - loss: 0.9067 - accuracy: 0.7660\n",
      "Epoch 00035: val_loss improved from 0.88810 to 0.86308, saving model to model.h5\n",
      "100/100 [==============================] - 10s 99ms/step - loss: 0.9067 - accuracy: 0.7660 - val_loss: 0.8631 - val_accuracy: 0.7700\n",
      "Epoch 36/100\n",
      "100/100 [==============================] - ETA: 0s - loss: 0.8898 - accuracy: 0.7710\n",
      "Epoch 00036: val_loss did not improve from 0.86308\n",
      "100/100 [==============================] - 10s 101ms/step - loss: 0.8898 - accuracy: 0.7710 - val_loss: 0.9413 - val_accuracy: 0.7350\n",
      "Epoch 37/100\n",
      "100/100 [==============================] - ETA: 0s - loss: 0.9063 - accuracy: 0.7680\n",
      "Epoch 00037: val_loss did not improve from 0.86308\n",
      "100/100 [==============================] - 10s 103ms/step - loss: 0.9063 - accuracy: 0.7680 - val_loss: 0.9470 - val_accuracy: 0.7380\n",
      "Epoch 38/100\n",
      "100/100 [==============================] - ETA: 0s - loss: 0.8859 - accuracy: 0.7760\n",
      "Epoch 00038: val_loss did not improve from 0.86308\n",
      "100/100 [==============================] - 10s 100ms/step - loss: 0.8859 - accuracy: 0.7760 - val_loss: 0.9268 - val_accuracy: 0.7360\n",
      "Epoch 39/100\n",
      "100/100 [==============================] - ETA: 0s - loss: 0.8955 - accuracy: 0.7665\n",
      "Epoch 00039: val_loss improved from 0.86308 to 0.85226, saving model to model.h5\n",
      "100/100 [==============================] - 10s 98ms/step - loss: 0.8955 - accuracy: 0.7665 - val_loss: 0.8523 - val_accuracy: 0.8050\n",
      "Epoch 40/100\n",
      "100/100 [==============================] - ETA: 0s - loss: 0.8895 - accuracy: 0.7730\n",
      "Epoch 00040: val_loss did not improve from 0.85226\n",
      "100/100 [==============================] - 10s 100ms/step - loss: 0.8895 - accuracy: 0.7730 - val_loss: 0.8852 - val_accuracy: 0.7760\n",
      "Epoch 41/100\n",
      "100/100 [==============================] - ETA: 0s - loss: 0.8911 - accuracy: 0.7800\n",
      "Epoch 00041: val_loss improved from 0.85226 to 0.84387, saving model to model.h5\n",
      "100/100 [==============================] - 10s 100ms/step - loss: 0.8911 - accuracy: 0.7800 - val_loss: 0.8439 - val_accuracy: 0.7850\n",
      "Epoch 42/100\n",
      "100/100 [==============================] - ETA: 0s - loss: 0.8701 - accuracy: 0.7695\n",
      "Epoch 00042: val_loss did not improve from 0.84387\n",
      "100/100 [==============================] - 10s 100ms/step - loss: 0.8701 - accuracy: 0.7695 - val_loss: 0.9448 - val_accuracy: 0.7330\n",
      "Epoch 43/100\n",
      "100/100 [==============================] - ETA: 0s - loss: 0.8820 - accuracy: 0.7785\n",
      "Epoch 00043: val_loss did not improve from 0.84387\n",
      "100/100 [==============================] - 10s 100ms/step - loss: 0.8820 - accuracy: 0.7785 - val_loss: 0.9711 - val_accuracy: 0.7330\n",
      "Epoch 44/100\n",
      "100/100 [==============================] - ETA: 0s - loss: 0.8645 - accuracy: 0.7675\n",
      "Epoch 00044: val_loss improved from 0.84387 to 0.83102, saving model to model.h5\n",
      "100/100 [==============================] - 10s 101ms/step - loss: 0.8645 - accuracy: 0.7675 - val_loss: 0.8310 - val_accuracy: 0.7760\n",
      "Epoch 45/100\n",
      "100/100 [==============================] - ETA: 0s - loss: 0.8728 - accuracy: 0.7805\n",
      "Epoch 00045: val_loss did not improve from 0.83102\n",
      "100/100 [==============================] - 10s 99ms/step - loss: 0.8728 - accuracy: 0.7805 - val_loss: 0.8944 - val_accuracy: 0.7650\n",
      "Epoch 46/100\n",
      "100/100 [==============================] - ETA: 0s - loss: 0.8397 - accuracy: 0.7825\n",
      "Epoch 00046: val_loss did not improve from 0.83102\n",
      "100/100 [==============================] - 10s 100ms/step - loss: 0.8397 - accuracy: 0.7825 - val_loss: 0.9737 - val_accuracy: 0.6760\n",
      "Epoch 47/100\n",
      "100/100 [==============================] - ETA: 0s - loss: 0.8242 - accuracy: 0.7890\n",
      "Epoch 00047: val_loss improved from 0.83102 to 0.78109, saving model to model.h5\n",
      "100/100 [==============================] - 10s 100ms/step - loss: 0.8242 - accuracy: 0.7890 - val_loss: 0.7811 - val_accuracy: 0.8090\n",
      "Epoch 48/100\n",
      "100/100 [==============================] - ETA: 0s - loss: 0.8420 - accuracy: 0.7700\n",
      "Epoch 00048: val_loss did not improve from 0.78109\n",
      "100/100 [==============================] - 10s 101ms/step - loss: 0.8420 - accuracy: 0.7700 - val_loss: 0.9379 - val_accuracy: 0.7220\n",
      "Epoch 49/100\n",
      "100/100 [==============================] - ETA: 0s - loss: 0.8262 - accuracy: 0.7900\n",
      "Epoch 00049: val_loss did not improve from 0.78109\n",
      "100/100 [==============================] - 10s 100ms/step - loss: 0.8262 - accuracy: 0.7900 - val_loss: 0.8638 - val_accuracy: 0.7440\n",
      "Epoch 50/100\n",
      "100/100 [==============================] - ETA: 0s - loss: 0.8095 - accuracy: 0.7745\n",
      "Epoch 00050: val_loss did not improve from 0.78109\n",
      "100/100 [==============================] - 10s 98ms/step - loss: 0.8095 - accuracy: 0.7745 - val_loss: 0.8253 - val_accuracy: 0.7940\n",
      "Epoch 51/100\n",
      "100/100 [==============================] - ETA: 0s - loss: 0.7695 - accuracy: 0.7990\n",
      "Epoch 00051: val_loss improved from 0.78109 to 0.76818, saving model to model.h5\n",
      "100/100 [==============================] - 10s 100ms/step - loss: 0.7695 - accuracy: 0.7990 - val_loss: 0.7682 - val_accuracy: 0.8110\n",
      "Epoch 52/100\n",
      "100/100 [==============================] - ETA: 0s - loss: 0.8059 - accuracy: 0.7900\n",
      "Epoch 00052: val_loss did not improve from 0.76818\n",
      "100/100 [==============================] - 10s 102ms/step - loss: 0.8059 - accuracy: 0.7900 - val_loss: 0.8132 - val_accuracy: 0.7900\n",
      "Epoch 53/100\n",
      "100/100 [==============================] - ETA: 0s - loss: 0.8094 - accuracy: 0.7890\n",
      "Epoch 00053: val_loss did not improve from 0.76818\n",
      "100/100 [==============================] - 10s 100ms/step - loss: 0.8094 - accuracy: 0.7890 - val_loss: 1.0573 - val_accuracy: 0.6600\n",
      "Epoch 54/100\n",
      "100/100 [==============================] - ETA: 0s - loss: 0.7720 - accuracy: 0.8015\n",
      "Epoch 00054: val_loss did not improve from 0.76818\n",
      "100/100 [==============================] - 10s 101ms/step - loss: 0.7720 - accuracy: 0.8015 - val_loss: 0.8106 - val_accuracy: 0.7900\n",
      "Epoch 55/100\n",
      "100/100 [==============================] - ETA: 0s - loss: 0.7928 - accuracy: 0.7915\n",
      "Epoch 00055: val_loss did not improve from 0.76818\n",
      "100/100 [==============================] - 10s 99ms/step - loss: 0.7928 - accuracy: 0.7915 - val_loss: 0.8299 - val_accuracy: 0.7600\n",
      "Epoch 56/100\n",
      "100/100 [==============================] - ETA: 0s - loss: 0.7668 - accuracy: 0.8050\n",
      "Epoch 00056: val_loss improved from 0.76818 to 0.76105, saving model to model.h5\n",
      "100/100 [==============================] - 10s 104ms/step - loss: 0.7668 - accuracy: 0.8050 - val_loss: 0.7610 - val_accuracy: 0.8070\n",
      "Epoch 57/100\n"
     ]
    },
    {
     "name": "stdout",
     "output_type": "stream",
     "text": [
      "100/100 [==============================] - ETA: 0s - loss: 0.7710 - accuracy: 0.8030\n",
      "Epoch 00057: val_loss did not improve from 0.76105\n",
      "100/100 [==============================] - 10s 102ms/step - loss: 0.7710 - accuracy: 0.8030 - val_loss: 1.0586 - val_accuracy: 0.6690\n",
      "Epoch 58/100\n",
      "100/100 [==============================] - ETA: 0s - loss: 0.7542 - accuracy: 0.8015\n",
      "Epoch 00058: val_loss did not improve from 0.76105\n",
      "100/100 [==============================] - 10s 101ms/step - loss: 0.7542 - accuracy: 0.8015 - val_loss: 0.7724 - val_accuracy: 0.7910\n",
      "Epoch 59/100\n",
      "100/100 [==============================] - ETA: 0s - loss: 0.7552 - accuracy: 0.8015\n",
      "Epoch 00059: val_loss did not improve from 0.76105\n",
      "100/100 [==============================] - 10s 96ms/step - loss: 0.7552 - accuracy: 0.8015 - val_loss: 0.8615 - val_accuracy: 0.7330\n",
      "Epoch 60/100\n",
      "100/100 [==============================] - ETA: 0s - loss: 0.7507 - accuracy: 0.8035\n",
      "Epoch 00060: val_loss improved from 0.76105 to 0.73520, saving model to model.h5\n",
      "100/100 [==============================] - 10s 100ms/step - loss: 0.7507 - accuracy: 0.8035 - val_loss: 0.7352 - val_accuracy: 0.8160\n",
      "Epoch 61/100\n",
      "100/100 [==============================] - ETA: 0s - loss: 0.7678 - accuracy: 0.7895\n",
      "Epoch 00061: val_loss did not improve from 0.73520\n",
      "100/100 [==============================] - 10s 98ms/step - loss: 0.7678 - accuracy: 0.7895 - val_loss: 0.7495 - val_accuracy: 0.7990\n",
      "Epoch 62/100\n",
      "100/100 [==============================] - ETA: 0s - loss: 0.7647 - accuracy: 0.7945\n",
      "Epoch 00062: val_loss did not improve from 0.73520\n",
      "100/100 [==============================] - 10s 100ms/step - loss: 0.7647 - accuracy: 0.7945 - val_loss: 0.9294 - val_accuracy: 0.7100\n",
      "Epoch 63/100\n",
      "100/100 [==============================] - ETA: 0s - loss: 0.7363 - accuracy: 0.8085\n",
      "Epoch 00063: val_loss improved from 0.73520 to 0.71770, saving model to model.h5\n",
      "100/100 [==============================] - 10s 97ms/step - loss: 0.7363 - accuracy: 0.8085 - val_loss: 0.7177 - val_accuracy: 0.8250\n",
      "Epoch 64/100\n",
      "100/100 [==============================] - ETA: 0s - loss: 0.7569 - accuracy: 0.7955\n",
      "Epoch 00064: val_loss did not improve from 0.71770\n",
      "100/100 [==============================] - 10s 100ms/step - loss: 0.7569 - accuracy: 0.7955 - val_loss: 0.7942 - val_accuracy: 0.7730\n",
      "Epoch 65/100\n",
      "100/100 [==============================] - ETA: 0s - loss: 0.7424 - accuracy: 0.8035\n",
      "Epoch 00065: val_loss did not improve from 0.71770\n",
      "100/100 [==============================] - 10s 101ms/step - loss: 0.7424 - accuracy: 0.8035 - val_loss: 0.7728 - val_accuracy: 0.7650\n",
      "Epoch 66/100\n",
      "100/100 [==============================] - ETA: 0s - loss: 0.7176 - accuracy: 0.8105\n",
      "Epoch 00066: val_loss did not improve from 0.71770\n",
      "100/100 [==============================] - 10s 100ms/step - loss: 0.7176 - accuracy: 0.8105 - val_loss: 0.7663 - val_accuracy: 0.7870\n",
      "Epoch 67/100\n",
      "100/100 [==============================] - ETA: 0s - loss: 0.7058 - accuracy: 0.8105\n",
      "Epoch 00067: val_loss did not improve from 0.71770\n",
      "100/100 [==============================] - 10s 98ms/step - loss: 0.7058 - accuracy: 0.8105 - val_loss: 0.7463 - val_accuracy: 0.8120\n",
      "Epoch 68/100\n",
      "100/100 [==============================] - ETA: 0s - loss: 0.7293 - accuracy: 0.8130\n",
      "Epoch 00068: val_loss did not improve from 0.71770\n",
      "100/100 [==============================] - 10s 102ms/step - loss: 0.7293 - accuracy: 0.8130 - val_loss: 0.9264 - val_accuracy: 0.7180\n",
      "Epoch 69/100\n",
      "100/100 [==============================] - ETA: 0s - loss: 0.7242 - accuracy: 0.7940\n",
      "Epoch 00069: val_loss improved from 0.71770 to 0.69910, saving model to model.h5\n",
      "100/100 [==============================] - 10s 100ms/step - loss: 0.7242 - accuracy: 0.7940 - val_loss: 0.6991 - val_accuracy: 0.8140\n",
      "Epoch 70/100\n",
      "100/100 [==============================] - ETA: 0s - loss: 0.6946 - accuracy: 0.8205\n",
      "Epoch 00070: val_loss improved from 0.69910 to 0.69272, saving model to model.h5\n",
      "100/100 [==============================] - 10s 100ms/step - loss: 0.6946 - accuracy: 0.8205 - val_loss: 0.6927 - val_accuracy: 0.8120\n",
      "Epoch 71/100\n",
      "100/100 [==============================] - ETA: 0s - loss: 0.7142 - accuracy: 0.8085\n",
      "Epoch 00071: val_loss improved from 0.69272 to 0.67945, saving model to model.h5\n",
      "100/100 [==============================] - 10s 100ms/step - loss: 0.7142 - accuracy: 0.8085 - val_loss: 0.6795 - val_accuracy: 0.8110\n",
      "Epoch 72/100\n",
      "100/100 [==============================] - ETA: 0s - loss: 0.6818 - accuracy: 0.8190\n",
      "Epoch 00072: val_loss did not improve from 0.67945\n",
      "100/100 [==============================] - 10s 98ms/step - loss: 0.6818 - accuracy: 0.8190 - val_loss: 0.6887 - val_accuracy: 0.8020\n",
      "Epoch 73/100\n",
      "100/100 [==============================] - ETA: 0s - loss: 0.6985 - accuracy: 0.8095\n",
      "Epoch 00073: val_loss improved from 0.67945 to 0.66541, saving model to model.h5\n",
      "100/100 [==============================] - 10s 99ms/step - loss: 0.6985 - accuracy: 0.8095 - val_loss: 0.6654 - val_accuracy: 0.8080\n",
      "Epoch 74/100\n",
      "100/100 [==============================] - ETA: 0s - loss: 0.6968 - accuracy: 0.8090\n",
      "Epoch 00074: val_loss did not improve from 0.66541\n",
      "100/100 [==============================] - 10s 99ms/step - loss: 0.6968 - accuracy: 0.8090 - val_loss: 0.8279 - val_accuracy: 0.7520\n",
      "Epoch 75/100\n",
      "100/100 [==============================] - ETA: 0s - loss: 0.6852 - accuracy: 0.8125\n",
      "Epoch 00075: val_loss did not improve from 0.66541\n",
      "100/100 [==============================] - 10s 102ms/step - loss: 0.6852 - accuracy: 0.8125 - val_loss: 0.7270 - val_accuracy: 0.7910\n",
      "Epoch 76/100\n",
      "100/100 [==============================] - ETA: 0s - loss: 0.6807 - accuracy: 0.8240\n",
      "Epoch 00076: val_loss did not improve from 0.66541\n",
      "100/100 [==============================] - 10s 102ms/step - loss: 0.6807 - accuracy: 0.8240 - val_loss: 0.7000 - val_accuracy: 0.8140\n",
      "Epoch 77/100\n",
      "100/100 [==============================] - ETA: 0s - loss: 0.6922 - accuracy: 0.8100\n",
      "Epoch 00077: val_loss did not improve from 0.66541\n",
      "100/100 [==============================] - 10s 100ms/step - loss: 0.6922 - accuracy: 0.8100 - val_loss: 0.7301 - val_accuracy: 0.7940\n",
      "Epoch 78/100\n",
      "100/100 [==============================] - ETA: 0s - loss: 0.6700 - accuracy: 0.8165\n",
      "Epoch 00078: val_loss did not improve from 0.66541\n",
      "100/100 [==============================] - 10s 103ms/step - loss: 0.6700 - accuracy: 0.8165 - val_loss: 0.6891 - val_accuracy: 0.7940\n",
      "Epoch 79/100\n",
      "100/100 [==============================] - ETA: 0s - loss: 0.6547 - accuracy: 0.8300\n",
      "Epoch 00079: val_loss improved from 0.66541 to 0.64533, saving model to model.h5\n",
      "100/100 [==============================] - 10s 100ms/step - loss: 0.6547 - accuracy: 0.8300 - val_loss: 0.6453 - val_accuracy: 0.8360\n",
      "Epoch 80/100\n",
      "100/100 [==============================] - ETA: 0s - loss: 0.6710 - accuracy: 0.8120\n",
      "Epoch 00080: val_loss did not improve from 0.64533\n",
      "100/100 [==============================] - 10s 100ms/step - loss: 0.6710 - accuracy: 0.8120 - val_loss: 0.6666 - val_accuracy: 0.8190\n",
      "Epoch 81/100\n",
      "100/100 [==============================] - ETA: 0s - loss: 0.6834 - accuracy: 0.8105\n",
      "Epoch 00081: val_loss did not improve from 0.64533\n",
      "100/100 [==============================] - 10s 100ms/step - loss: 0.6834 - accuracy: 0.8105 - val_loss: 0.8610 - val_accuracy: 0.7020\n",
      "Epoch 82/100\n",
      "100/100 [==============================] - ETA: 0s - loss: 0.6497 - accuracy: 0.8330\n",
      "Epoch 00082: val_loss did not improve from 0.64533\n",
      "100/100 [==============================] - 10s 100ms/step - loss: 0.6497 - accuracy: 0.8330 - val_loss: 0.6785 - val_accuracy: 0.8140\n",
      "Epoch 83/100\n",
      "100/100 [==============================] - ETA: 0s - loss: 0.6473 - accuracy: 0.8320\n",
      "Epoch 00083: val_loss did not improve from 0.64533\n",
      "100/100 [==============================] - 10s 99ms/step - loss: 0.6473 - accuracy: 0.8320 - val_loss: 0.7675 - val_accuracy: 0.7750\n",
      "Epoch 84/100\n",
      "100/100 [==============================] - ETA: 0s - loss: 0.6407 - accuracy: 0.8220\n",
      "Epoch 00084: val_loss did not improve from 0.64533\n",
      "100/100 [==============================] - 9s 95ms/step - loss: 0.6407 - accuracy: 0.8220 - val_loss: 0.7730 - val_accuracy: 0.7460\n",
      "Epoch 85/100\n"
     ]
    },
    {
     "name": "stdout",
     "output_type": "stream",
     "text": [
      "100/100 [==============================] - ETA: 0s - loss: 0.6468 - accuracy: 0.8220\n",
      "Epoch 00085: val_loss did not improve from 0.64533\n",
      "100/100 [==============================] - 10s 97ms/step - loss: 0.6468 - accuracy: 0.8220 - val_loss: 0.7702 - val_accuracy: 0.7730\n",
      "Epoch 86/100\n",
      "100/100 [==============================] - ETA: 0s - loss: 0.6296 - accuracy: 0.8300\n",
      "Epoch 00086: val_loss did not improve from 0.64533\n",
      "100/100 [==============================] - 10s 100ms/step - loss: 0.6296 - accuracy: 0.8300 - val_loss: 0.7035 - val_accuracy: 0.7870\n",
      "Epoch 87/100\n",
      "100/100 [==============================] - ETA: 0s - loss: 0.6704 - accuracy: 0.8180\n",
      "Epoch 00087: val_loss did not improve from 0.64533\n",
      "100/100 [==============================] - 10s 99ms/step - loss: 0.6704 - accuracy: 0.8180 - val_loss: 0.6747 - val_accuracy: 0.8170\n",
      "Epoch 88/100\n",
      "100/100 [==============================] - ETA: 0s - loss: 0.6327 - accuracy: 0.8415\n",
      "Epoch 00088: val_loss did not improve from 0.64533\n",
      "100/100 [==============================] - 10s 98ms/step - loss: 0.6327 - accuracy: 0.8415 - val_loss: 0.8091 - val_accuracy: 0.7230\n",
      "Epoch 89/100\n",
      "100/100 [==============================] - ETA: 0s - loss: 0.6539 - accuracy: 0.8100\n",
      "Epoch 00089: val_loss improved from 0.64533 to 0.61752, saving model to model.h5\n",
      "100/100 [==============================] - 10s 99ms/step - loss: 0.6539 - accuracy: 0.8100 - val_loss: 0.6175 - val_accuracy: 0.8440\n",
      "Epoch 90/100\n",
      "100/100 [==============================] - ETA: 0s - loss: 0.6415 - accuracy: 0.8320\n",
      "Epoch 00090: val_loss did not improve from 0.61752\n",
      "100/100 [==============================] - 10s 99ms/step - loss: 0.6415 - accuracy: 0.8320 - val_loss: 0.7582 - val_accuracy: 0.7800\n",
      "Epoch 91/100\n",
      "100/100 [==============================] - ETA: 0s - loss: 0.6308 - accuracy: 0.8300\n",
      "Epoch 00091: val_loss did not improve from 0.61752\n",
      "100/100 [==============================] - 10s 98ms/step - loss: 0.6308 - accuracy: 0.8300 - val_loss: 0.6279 - val_accuracy: 0.8350\n",
      "Epoch 92/100\n",
      "100/100 [==============================] - ETA: 0s - loss: 0.6139 - accuracy: 0.8365\n",
      "Epoch 00092: val_loss did not improve from 0.61752\n",
      "100/100 [==============================] - 10s 97ms/step - loss: 0.6139 - accuracy: 0.8365 - val_loss: 0.6742 - val_accuracy: 0.8120\n",
      "Epoch 93/100\n",
      "100/100 [==============================] - ETA: 0s - loss: 0.6275 - accuracy: 0.8380\n",
      "Epoch 00093: val_loss did not improve from 0.61752\n",
      "100/100 [==============================] - 10s 98ms/step - loss: 0.6275 - accuracy: 0.8380 - val_loss: 0.7233 - val_accuracy: 0.8010\n",
      "Epoch 94/100\n",
      "100/100 [==============================] - ETA: 0s - loss: 0.6066 - accuracy: 0.8460\n",
      "Epoch 00094: val_loss did not improve from 0.61752\n",
      "100/100 [==============================] - 10s 99ms/step - loss: 0.6066 - accuracy: 0.8460 - val_loss: 0.8671 - val_accuracy: 0.7140\n",
      "Epoch 95/100\n",
      "100/100 [==============================] - ETA: 0s - loss: 0.6419 - accuracy: 0.8295\n",
      "Epoch 00095: val_loss did not improve from 0.61752\n",
      "100/100 [==============================] - 10s 98ms/step - loss: 0.6419 - accuracy: 0.8295 - val_loss: 0.6347 - val_accuracy: 0.8250\n",
      "Epoch 96/100\n",
      "100/100 [==============================] - ETA: 0s - loss: 0.6289 - accuracy: 0.8225\n",
      "Epoch 00096: val_loss did not improve from 0.61752\n",
      "100/100 [==============================] - 10s 99ms/step - loss: 0.6289 - accuracy: 0.8225 - val_loss: 0.6443 - val_accuracy: 0.8280\n",
      "Epoch 97/100\n",
      "100/100 [==============================] - ETA: 0s - loss: 0.6079 - accuracy: 0.8380\n",
      "Epoch 00097: val_loss did not improve from 0.61752\n",
      "100/100 [==============================] - 10s 98ms/step - loss: 0.6079 - accuracy: 0.8380 - val_loss: 0.6360 - val_accuracy: 0.8200\n",
      "Epoch 98/100\n",
      "100/100 [==============================] - ETA: 0s - loss: 0.6328 - accuracy: 0.8285\n",
      "Epoch 00098: val_loss did not improve from 0.61752\n",
      "100/100 [==============================] - 10s 98ms/step - loss: 0.6328 - accuracy: 0.8285 - val_loss: 0.6304 - val_accuracy: 0.8240\n",
      "Epoch 99/100\n",
      "100/100 [==============================] - ETA: 0s - loss: 0.6089 - accuracy: 0.8350\n",
      "Epoch 00099: val_loss did not improve from 0.61752\n",
      "100/100 [==============================] - 10s 100ms/step - loss: 0.6089 - accuracy: 0.8350 - val_loss: 0.6473 - val_accuracy: 0.8170\n",
      "Epoch 100/100\n",
      "100/100 [==============================] - ETA: 0s - loss: 0.6172 - accuracy: 0.8355\n",
      "Epoch 00100: val_loss did not improve from 0.61752\n",
      "100/100 [==============================] - 10s 99ms/step - loss: 0.6172 - accuracy: 0.8355 - val_loss: 0.6265 - val_accuracy: 0.8350\n"
     ]
    }
   ],
   "source": [
    "# history= model.fit(train_images,train_labels,epochs=20, batch_size=100, verbose=2,validation_data=(test_images, test_labels))\n",
    "with tf.device('/gpu:0'):\n",
    "\n",
    "    cp_callback = keras.callbacks.ModelCheckpoint(filepath='model.h5',save_best_only=True ,verbose=1) #best acc model 저장\n",
    "\n",
    "\n",
    "    history = model.fit(\n",
    "        train_generator,\n",
    "        steps_per_epoch=100,  \n",
    "        epochs=100,#여러 규제들을 적용하여 학습 속도가 느려짐=>epoch을 늘려 더 오래 학습시킴, 실제로는 50 epoch이 넘어가면 점점 overfitting이 되지만 val_acc이 안정되어서 다음과 같이 했다. 순간적인 acc만 볼 것이면 50이어도 충분하다.\n",
    "        validation_data=validation_generator,\n",
    "        callbacks=[cp_callback],\n",
    "        validation_steps=50\n",
    "    )\n"
   ]
  },
  {
   "cell_type": "code",
   "execution_count": 17,
   "metadata": {
    "id": "huuctq_I5R8x"
   },
   "outputs": [
    {
     "data": {
      "image/png": "[encoded data removed]",
      "text/plain": [
       "<Figure size 720x288 with 2 Axes>"
      ]
     },
     "metadata": {
      "needs_background": "light"
     },
     "output_type": "display_data"
    }
   ],
   "source": [
    "history.history.keys()\n",
    "model.save('CatsDogs.h5')\n",
    "\n",
    "import matplotlib.pyplot as plt\n",
    "\n",
    "loss = history.history['loss']\n",
    "val_loss = history.history['val_loss']\n",
    "\n",
    "acc = history.history['accuracy']\n",
    "val_acc = history.history['val_accuracy']\n",
    "\n",
    "epochs = range(len(acc))\n",
    "\n",
    "\n",
    "\n",
    "plt.figure(figsize=(10, 4))\n",
    "\n",
    "plt.subplot(121)\n",
    "\n",
    "plt.plot(epochs, loss, 'bo', label='Training loss')\n",
    "plt.plot(epochs, val_loss, 'b', label='Validation loss')\n",
    "plt.title('Training and validation loss')\n",
    "plt.legend()\n",
    "\n",
    "\n",
    "plt.subplot(122)\n",
    "plt.ylim([0.0, 1.0]) \n",
    "plt.plot(epochs, acc, 'bo', label='Training accuracy')\n",
    "plt.plot(epochs, val_acc, 'b', label='Validation accuracy')\n",
    "plt.title('Training and validation accuracy')\n",
    "plt.legend()\n",
    "\n",
    "plt.tight_layout()\n",
    "plt.show()\n",
    "#https://stats.stackexchange.com/questions/255105/why-is-the-validation-accuracy-fluctuating\n",
    "#에 의하면 data가 충분하지 못해서 fluctuating이 발생하는 것 같다. 개인적인 의견으로 운이 좋게 validation dataset에 알맞게 train이 된 것으로 보인다.\n",
    "#조금 더 넓은 폭의 data에 대해서라면 epoch을 늘린 모델이 적합할 것으로 보인다(epoch이 늘어날 수록 fluctuating이 줄어듬)\n",
    "\n",
    "#dataset 이미지를 확인해보았는데 고양이가 여러마리 있거나 물체에 가려져있거나 사람과 같이 있거나, 글씨가 있는 등 여러 경우가 있다.(좋지 못한 dataset,고양이와 개만 있는 데이터가 아님)\n",
    "#이러한 dataset에 대해 cat dog로 구분하기에는 힘들어 보이고 실제로도 그렇다. RCNN처럼 selective search(혹은 전처리:원래 되어 있어야 하는)를 한 후 classify를 하면 더 좋은 성능의 모델을 얻을 수 있을 것 같다."
   ]
  },
  {
   "cell_type": "code",
   "execution_count": 18,
   "metadata": {},
   "outputs": [
    {
     "name": "stdout",
     "output_type": "stream",
     "text": [
      "best training loss:0.6066\n",
      "best validation loss:0.6175\n",
      "\n",
      "best training accuracy:0.8460\n",
      "best validation accuracy:0.8440\n"
     ]
    }
   ],
   "source": [
    "import numpy as np\n",
    "print(f\"best training loss:{np.min(loss):.4f}\\nbest validation loss:{np.min(val_loss):.4f}\\n\")\n",
    "print(f\"best training accuracy:{np.max(acc):.4f}\\nbest validation accuracy:{np.max(val_acc):.4f}\")"
   ]
  },
  {
   "cell_type": "code",
   "execution_count": 19,
   "metadata": {
    "id": "3lM3cjbyiKcl"
   },
   "outputs": [],
   "source": [
    "from keras.models import load_model\n",
    "\n",
    "best_model = load_model('model.h5')\n"
   ]
  },
  {
   "cell_type": "code",
   "execution_count": 20,
   "metadata": {
    "id": "OSqgpS2TQZXl"
   },
   "outputs": [
    {
     "name": "stdout",
     "output_type": "stream",
     "text": [
      "Found 1000 images belonging to 2 classes.\n",
      "50/50 [==============================] - 2s 34ms/step - loss: 0.6835 - accuracy: 0.7990\n",
      "test loss:0.684, test acc:0.799\n"
     ]
    }
   ],
   "source": [
    "test_datagen = ImageDataGenerator(rescale=1./255)\n",
    "\n",
    "test_datagen = test_datagen.flow_from_directory(\n",
    "        test_dir,\n",
    "        target_size=(150, 150),\n",
    "        batch_size=20,\n",
    "        class_mode='binary')\n",
    "\n",
    "results = best_model.evaluate(test_datagen)\n",
    "print(f\"test loss:{results[0]:.3f}, test acc:{results[1]:.3f}\")"
   ]
  },
  {
   "cell_type": "markdown",
   "metadata": {
    "id": "n-SgFury48u6"
   },
   "source": [
    "# 평가\n",
    "\n",
    "<p>주어진 모델은 최대 val_acc가 0.7330, 설계한 모델은 최대 val_acc가 0.8720으로 성능 향상이 있었다.</p> \n",
    "\n",
    "> 여러번 실험해본 결과 데이터가 어떻게 split되느냐에 따라 전체적인 acc 평균이 크게 달라진다.(acc_2 = acc_1 +(-0.05~0.05))\n",
    "\n",
    "<br>\n",
    "<p>plot을 보면 주어진 모델은 val_loss가 epoch가 10일 때부터 증가함수 형태를 띄어 overfitting이 발생했음을 알 수 있다. 반면 설계한 모델은 val_loss에서 fluctuation이 발생하지만 주석에서 설명했듯이 강한 규제에 데이터 수가 적어 특정학습에서 우연히 좋게 평가되거나 나쁘게 평가되어 발생하는 문제로 보인다. 물론 epoch이 50이 넘어가면서 overfitting이 생기지만 주어진 모델보다 약하다.</p>\n",
    "<br>\n",
    "<p>주석에서 설명했듯 설계한 모델은 아래와 같은 방법을 통해 overfitting을 방지했다.</p>\n",
    "\n",
    "  * 1. 모델을 간략화하여 가중치 수를 줄였다.\n",
    "  * 2. l1,l2 regularization을 통해 가중치 크기를 줄였다.\n",
    "  * 3. batch normalization을 사용하였다.\n",
    "  * 4. dropout을 사용하였다.\n",
    "  * 5. data augmentation을 사용하였다.\n",
    "\n",
    "  > 자세한 내용 및 참고 자료는 주석부분 참고\n",
    "\n",
    "<p>val_loss가 가장 낮은 모델로 test한 결과 0.8480의 acc를 얻을 수 있었다.</p>"
   ]
  },
  {
   "cell_type": "code",
   "execution_count": null,
   "metadata": {},
   "outputs": [],
   "source": []
  }
 ],
 "metadata": {
  "colab": {
   "collapsed_sections": [],
   "name": "CNN_cats_dogs.ipynb",
   "provenance": []
  },
  "kernelspec": {
   "display_name": "Python 3 (ipykernel)",
   "language": "python",
   "name": "python3"
  },
  "language_info": {
   "codemirror_mode": {
    "name": "ipython",
    "version": 3
   },
   "file_extension": ".py",
   "mimetype": "text/x-python",
   "name": "python",
   "nbconvert_exporter": "python",
   "pygments_lexer": "ipython3",
   "version": "3.7.11"
  }
 },
 "nbformat": 4,
 "nbformat_minor": 1
}
